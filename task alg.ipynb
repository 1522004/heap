{
 "cells": [
  {
   "cell_type": "code",
   "execution_count": 3,
   "id": "e561afe3-a315-4055-a7e2-00816f4dde90",
   "metadata": {},
   "outputs": [
    {
     "name": "stdout",
     "output_type": "stream",
     "text": [
      "Enter the numbers to sort, separated by spaces:\n"
     ]
    },
    {
     "name": "stdout",
     "output_type": "stream",
     "text": [
      " 1 7 2 8 10\n"
     ]
    },
    {
     "name": "stdout",
     "output_type": "stream",
     "text": [
      "\n",
      "Original array: [1, 7, 2, 8, 10]\n",
      "Sorted array: [1, 2, 7, 8, 10]\n"
     ]
    }
   ],
   "source": [
    "def heapify(arr, n, i):\n",
    "    \"\"\"\n",
    "    Converts a subtree into a max heap, assuming subtrees are already heaps.\n",
    "\n",
    "    Parameters:\n",
    "    arr (list): The array to be heapified.\n",
    "    n (int): Size of the heap.\n",
    "    i (int): Root index of the subtree.\n",
    "    \"\"\"\n",
    "    largest = i  # Initialize largest as root\n",
    "    left = 2 * i + 1  # Left child index\n",
    "    right = 2 * i + 2  # Right child index\n",
    "\n",
    "    # Check if left child exists and is greater than the root\n",
    "    if left < n and arr[left] > arr[largest]:\n",
    "        largest = left\n",
    "\n",
    "    # Check if right child exists and is greater than the largest\n",
    "    if right < n and arr[right] > arr[largest]:\n",
    "        largest = right\n",
    "\n",
    "    # If the largest is not the root, swap and continue heapifying\n",
    "    if largest != i:\n",
    "        arr[i], arr[largest] = arr[largest], arr[i]  # Swap\n",
    "        heapify(arr, n, largest)  # Recursively heapify the affected subtree\n",
    "\n",
    "\n",
    "def heap_sort(arr):\n",
    "    \"\"\"\n",
    "    Sorts an array using the Heap Sort algorithm.\n",
    "\n",
    "    Parameters:\n",
    "    arr (list): The array to be sorted.\n",
    "    \"\"\"\n",
    "    n = len(arr)\n",
    "\n",
    "    # Build a max heap\n",
    "    for i in range(n // 2 - 1, -1, -1):\n",
    "        heapify(arr, n, i)\n",
    "\n",
    "    # Extract elements from the heap one by one\n",
    "    for i in range(n - 1, 0, -1):\n",
    "        arr[i], arr[0] = arr[0], arr[i]  # Swap\n",
    "        heapify(arr, i, 0)  # Heapify the reduced heap\n",
    "\n",
    "\n",
    "if __name__ == \"__main__\":\n",
    "    # Take input from the user\n",
    "    print(\"Enter the numbers to sort, separated by spaces:\")\n",
    "    user_input = input()\n",
    "    arr = list(map(int, user_input.split()))\n",
    "\n",
    "    print(\"\\nOriginal array:\", arr)\n",
    "\n",
    "    # Sort the array\n",
    "    heap_sort(arr)\n",
    "    print(\"Sorted array:\", arr)\n"
   ]
  },
  {
   "cell_type": "code",
   "execution_count": null,
   "id": "d3f930fc-9286-4de5-a230-cf7fac1d51dd",
   "metadata": {},
   "outputs": [],
   "source": []
  }
 ],
 "metadata": {
  "kernelspec": {
   "display_name": "Python 3 (ipykernel)",
   "language": "python",
   "name": "python3"
  },
  "language_info": {
   "codemirror_mode": {
    "name": "ipython",
    "version": 3
   },
   "file_extension": ".py",
   "mimetype": "text/x-python",
   "name": "python",
   "nbconvert_exporter": "python",
   "pygments_lexer": "ipython3",
   "version": "3.12.4"
  }
 },
 "nbformat": 4,
 "nbformat_minor": 5
}
